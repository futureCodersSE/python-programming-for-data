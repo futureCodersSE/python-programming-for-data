{
  "nbformat": 4,
  "nbformat_minor": 0,
  "metadata": {
    "colab": {
      "provenance": [],
      "authorship_tag": "ABX9TyOVnL12bT3ceqRYWmgjrZoX",
      "include_colab_link": true
    },
    "kernelspec": {
      "name": "python3",
      "display_name": "Python 3"
    },
    "language_info": {
      "name": "python"
    }
  },
  "cells": [
    {
      "cell_type": "markdown",
      "metadata": {
        "id": "view-in-github",
        "colab_type": "text"
      },
      "source": [
        "<a href=\"https://colab.research.google.com/github/futureCodersSE/python-programming-for-data/blob/main/Creating_a_github_repository.ipynb\" target=\"_parent\"><img src=\"https://colab.research.google.com/assets/colab-badge.svg\" alt=\"Open In Colab\"/></a>"
      ]
    },
    {
      "cell_type": "markdown",
      "source": [
        "# Create a github repository\n",
        "---\n",
        "\n",
        "Github is a version control system, used primarily for storing sets of documents in an online space where they can easily be shared and can be kept up to date either by individuals or teams.\n",
        "\n",
        "Github is often used by software developers, including data developers.\n",
        "\n",
        "## Set up a Github account\n",
        "---\n",
        "\n",
        "Github is free to use at a personal level.  \n",
        "\n",
        "**Step 1:**  Create an account if you don't already have one at [Github.com](https://github.com).  **IMPORTANT:**  use the same email address as you use to access Google email and drive.\n",
        "![](https://drive.google.com/uc?id=1Db8wVe8_-zFlEfzjvfHw4EB7DsUayTWS)\n",
        "\n",
        "\n",
        "**Step 2:**  Create a repository where you will store your completed worksheets for this course.  \n",
        "\n",
        "On your dashboard you should see a green \"New repository\" button.  Click on this and you should see the image below.\n",
        "\n",
        "You should call the repository something like ***data-and-python*** .  This video shows you how to create the repository.  \n",
        "\n",
        "The description should be - \"Worksheets from Data with Python course\"\n",
        "\n",
        "The repository should be Public and you should start the repository with a README file (check the box next to this option).\n",
        "\n",
        "![](https://drive.google.com/uc?id=1yjmYa9hVKV9hcepwy94t5DsyPu0b753_)\n",
        "\n",
        "Once you have clicked on **Create repository** your repository will be created and you can copy the URL from the bar at the top:\n",
        "\n",
        "e.g.  \n",
        "\n",
        "![](https://drive.google.com/uc?id=11WS91Ua4Lyl1egPVk1HCObpeFWc7Vq7t)\n",
        "\n",
        "\n"
      ],
      "metadata": {
        "id": "mg5k1mO1Tlvr"
      }
    },
    {
      "cell_type": "markdown",
      "source": [
        "# Using your Github repository\n",
        "---\n",
        "\n",
        "Now that your repository is created, send the link to your tutor.  \n",
        "\n",
        "When you complete your first worksheet (Retrieving data) you will be able to connect to your Github repository and upload the worksheet there so that it is available to be reviewed and a great showcase for what you ahve already learnt!\n",
        "\n",
        "You can practice by completing this worksheet and uploading it to your repository"
      ],
      "metadata": {
        "id": "F6dDONuNe8QE"
      }
    },
    {
      "cell_type": "markdown",
      "source": [
        "# Writing and running Python code in a Google colab\n",
        "---\n",
        "\n",
        "In case you haven't used a Google colab before, this worksheet is a colab.  It has text cells and code cells.\n",
        "\n",
        "You can type python code into a code cell, then click on the play button (top left of the cell) to run the code.  If there are errors, you will see error messages, as in any code editor.  The output will be shown just below the code cell.\n",
        "\n",
        "First, run the code below to print the message. Then change the message to answer the question \"Was this worksheet helpful?\" - and run it again."
      ],
      "metadata": {
        "id": "xKFwILAXfmzk"
      }
    },
    {
      "cell_type": "code",
      "execution_count": null,
      "metadata": {
        "id": "Lnh4plU3ThPv"
      },
      "outputs": [],
      "source": [
        "# print a message on the screen to test editing and running a python function in a code cell then change the message to answer the question - Was this worksheet helpful?\n",
        "\n",
        "def show_message(message_text):\n",
        "  print(message_text)\n",
        "\n",
        "show_message(\"Testing the code cell\")"
      ]
    },
    {
      "cell_type": "markdown",
      "source": [
        "# Uploading to Github repository\n",
        "---\n",
        "\n",
        "Now that you have completed the small coding task in this worksheet you are going to upload it to Github.\n",
        "\n",
        "1.  Open the File menu (top left) and select **Save a copy in GitHub**  \n",
        "2.  It will ask you to log in to Github - do this\n",
        "3.  When you have connected to Github, you will see the upload screen:\n",
        "![](https://drive.google.com/uc?id=1Hbajqhty0I3x4ksuj8nMzSkk2oai8S39)  \n",
        "Make sure you have the correct name for your repository.\n",
        "\n",
        "Then click OK.  A new tab will open with your worksheet on Github showing and you can copy the link to access this again."
      ],
      "metadata": {
        "id": "0u1y4o7agrE3"
      }
    },
    {
      "cell_type": "markdown",
      "source": [
        "# Reflection\n",
        "---\n",
        "You now have a Github repository where you can upload all completed worksheets for this course.  It will serve as a showcase for your work if you want to share it with anyone to show what you can do.\n",
        "\n",
        "Well done and enjoy the rest of the course."
      ],
      "metadata": {
        "id": "2dvS6deOjRx_"
      }
    }
  ]
}