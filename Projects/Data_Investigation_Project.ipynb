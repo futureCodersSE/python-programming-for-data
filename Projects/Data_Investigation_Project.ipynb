{
  "nbformat": 4,
  "nbformat_minor": 0,
  "metadata": {
    "colab": {
      "provenance": [],
      "authorship_tag": "ABX9TyNvhQ8HXPU0ueLJqh1/qo4M",
      "include_colab_link": true
    },
    "kernelspec": {
      "name": "python3",
      "display_name": "Python 3"
    },
    "language_info": {
      "name": "python"
    }
  },
  "cells": [
    {
      "cell_type": "markdown",
      "metadata": {
        "id": "view-in-github",
        "colab_type": "text"
      },
      "source": [
        "<a href=\"https://colab.research.google.com/github/futureCodersSE/python-programming-for-data/blob/main/Projects/Data_Investigation_Project.ipynb\" target=\"_parent\"><img src=\"https://colab.research.google.com/assets/colab-badge.svg\" alt=\"Open In Colab\"/></a>"
      ]
    },
    {
      "cell_type": "markdown",
      "metadata": {
        "id": "hmwPnuX3KU5t"
      },
      "source": [
        "# Data investigation task\n",
        "---\n",
        "\n",
        "So far in this topic, you have learnt:\n",
        "\n",
        "*  how to read data from a csv or Excel file, or other source, into a **dataframe**\n",
        "*  how to display specified rows of data (`head, tail, iloc`)\n",
        "*  how to display columns of data\n",
        "*  how to display info about the dataframe (`df.info()`)\n",
        "*  how to display summary statistics (`df.describe()`) for the whole dataframe, or for groups of data\n",
        "*  how to select the unique values from a column\n",
        "*  how to calculate new values from specific items of data (e.g. all numbers in a row)\n",
        "\n",
        "\n",
        "Use what you have learnt so far about reading data files and displaying rows, columns, unique values, calculating from individual vales, to investigate and display some information from this data set:\n",
        "\n",
        "https://raw.githubusercontent.com/futureCodersSE/working-with-data/main/Data%20sets/housing_in_london_yearly_variables.csv\n",
        "\n",
        "FOR EACH NEW THING YOU DO WITH THE DATA, add a text cell and type in a description of what you are doing with the data, then add a code cell with your code to do this to the data.\n",
        "\n",
        "The notebook will remember the state of data from one cell to the next, so you don't need to read the data again each time.\n",
        "\n",
        "---\n",
        "\n",
        "To add a Text cell, click the **+ Text** button at the top of this notebook. Then double click to start adding text.  To edit a text cell, double-click in it.\n",
        "\n",
        "To add a Code cell, click the **+ Code** button at the top of this notebook.\n",
        "\n",
        "---\n",
        "\n",
        "**Start with a Text cell**\n",
        "\n"
      ]
    }
  ]
}