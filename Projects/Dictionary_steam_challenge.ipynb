{
  "nbformat": 4,
  "nbformat_minor": 0,
  "metadata": {
    "colab": {
      "provenance": [],
      "include_colab_link": true
    },
    "kernelspec": {
      "name": "python3",
      "display_name": "Python 3"
    },
    "language_info": {
      "name": "python"
    }
  },
  "cells": [
    {
      "cell_type": "markdown",
      "metadata": {
        "id": "view-in-github",
        "colab_type": "text"
      },
      "source": [
        "<a href=\"https://colab.research.google.com/github/futureCodersSE/python-programming-for-data/blob/main/Projects/Dictionary_steam_challenge.ipynb\" target=\"_parent\"><img src=\"https://colab.research.google.com/assets/colab-badge.svg\" alt=\"Open In Colab\"/></a>"
      ]
    },
    {
      "cell_type": "markdown",
      "source": [
        "### Dictionaries Steam Challenge\n",
        "---\n",
        "\n",
        "In this challenge you will be creating some dictionaries using the steam purchase data.\n",
        "\n",
        "Your task will be to:\n",
        "1. create a list of dictionaries matching user id and games into key value pairs\n",
        "2. grouping dictionaries to create a dictionary of games and lists of users who've bought them"
      ],
      "metadata": {
        "id": "4N2tXa3vFf8_"
      }
    },
    {
      "cell_type": "markdown",
      "source": [
        "### Run this cell to load in the data ready to use\n",
        "---\n",
        "\n",
        "2 lists are being created:  \n",
        "**users** - contains a list of user ID's    \n",
        "**titles** - contains the list of game titles   "
      ],
      "metadata": {
        "id": "HEP45tLOIeQ9"
      }
    },
    {
      "cell_type": "code",
      "source": [
        "import pandas as pd\n",
        "\n",
        "# open the data file and get a copy of the Titles column\n",
        "def get_users_and_titles():\n",
        "  url = \"https://drive.google.com/uc?id=1rkG8-cp-KLBc1zK4YMLHIsMMyyTVk5Ju\"\n",
        "  data_table = pd.read_csv(url)\n",
        "  return data_table[\"User\"].tolist(), data_table[\"Title\"].tolist()\n",
        "\n",
        "users, titles = get_users_and_titles()"
      ],
      "metadata": {
        "id": "zNx-LNgtIaan"
      },
      "execution_count": null,
      "outputs": []
    },
    {
      "cell_type": "markdown",
      "source": [
        "### Task 1\n",
        "---\n",
        "\n",
        "Create a list of dictionaries from the 2 lists above (**users** & **titles**):\n",
        "* The users should be the keys  \n",
        "* the titles should be the corresponding values\n",
        "* You should end up with a list of dictionaries with user:title key value pairs\n",
        "\n",
        "*(hint: use a `for` loop and `append()` to help)*\n",
        "\n"
      ],
      "metadata": {
        "id": "QQ3fXxcdIVPd"
      }
    },
    {
      "cell_type": "code",
      "execution_count": null,
      "metadata": {
        "id": "HbsI2riIFczA"
      },
      "outputs": [],
      "source": []
    },
    {
      "cell_type": "markdown",
      "source": [
        "### Task 2\n",
        "---\n",
        "Create a list with only the unique titles    \n",
        "*(hint: use a `for` loop and `append()`)*\n",
        "\n",
        "**Expected Output**  \n",
        "Length of list should be 5155"
      ],
      "metadata": {
        "id": "QhpXbivVSZav"
      }
    },
    {
      "cell_type": "code",
      "source": [],
      "metadata": {
        "id": "O6ZJylBeS43y"
      },
      "execution_count": null,
      "outputs": []
    },
    {
      "cell_type": "markdown",
      "source": [
        "### Task 3\n",
        "---\n",
        "Now that we have a list of the unique games that were bought, we can make a dictionary of the users that bought those games.\n",
        "\n",
        "We're going to start by doing it just for the first title in the list.\n",
        "\n",
        "1. find the first title *(use indexing)*\n",
        "2. create an empty list called **user_list**\n",
        "2. use a loop to iterate through your dictionary from task 1\n",
        "3. use `if` to match the title with dictionary entry\n",
        "4. if a match, append the corresponding user to your user list\n",
        "5. create a dictionary where the 1st title is the key and the user list is the value\n",
        "\n",
        "\n",
        "**Expected Output**  \n",
        "The user_list should be length 717"
      ],
      "metadata": {
        "id": "stO21xJyS520"
      }
    },
    {
      "cell_type": "code",
      "source": [],
      "metadata": {
        "id": "ixjMf6xEUuMw"
      },
      "execution_count": null,
      "outputs": []
    },
    {
      "cell_type": "markdown",
      "source": [
        "### Task 4\n",
        "---\n",
        "Try repeating task 3 but for different games, what about the last game or the 100th?"
      ],
      "metadata": {
        "id": "mZgiFbi4UuxQ"
      }
    },
    {
      "cell_type": "code",
      "source": [],
      "metadata": {
        "id": "XjtCvbQxU6vO"
      },
      "execution_count": null,
      "outputs": []
    }
  ]
}