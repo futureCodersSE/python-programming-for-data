{
  "nbformat": 4,
  "nbformat_minor": 0,
  "metadata": {
    "colab": {
      "provenance": [],
      "include_colab_link": true
    },
    "kernelspec": {
      "name": "python3",
      "display_name": "Python 3"
    },
    "language_info": {
      "name": "python"
    }
  },
  "cells": [
    {
      "cell_type": "markdown",
      "metadata": {
        "id": "view-in-github",
        "colab_type": "text"
      },
      "source": [
        "<a href=\"https://colab.research.google.com/github/futureCodersSE/python-programming-for-data/blob/main/Worksheets/4a_Filtering_data_with_Pandas.ipynb\" target=\"_parent\"><img src=\"https://colab.research.google.com/assets/colab-badge.svg\" alt=\"Open In Colab\"/></a>"
      ]
    },
    {
      "cell_type": "markdown",
      "source": [
        "# Filtering dataframe data\n",
        "\n",
        "Interrogating dataframes\n",
        "---\n",
        "\n",
        "*   single column: `df['column']`\n",
        "*   multiple columns: `df[['column1', 'column2']]`\n",
        "*   filter rows by condition \t`df[df['column'] = condition]`  \n",
        "*   filter by multiple conditions where both are true (AND)  \n",
        "\t`df[(df['column'] = condition1) & (df['column'] = condition2)]`  \n",
        "*   filter by multiple conditions where one or other are true (OR)  \n",
        "\t`df[(df['column'] = condition1)  | (df['column'] = condition2)]`  \n",
        "\n",
        "### Useful Functions\n",
        "\n",
        "---\n",
        "\n",
        "`head()`: will show the first 5 rows of the dataframe.  \n",
        "`tail()`: same as head() but for the last 5 rows.  \n",
        "`len()`: will show the length.  \n",
        "`mode()`: will show the most common value in column.  \n",
        "`mean()`: will show the average of the column.  \n",
        "`sort_values()`: will sort the dataframe.\n",
        "\n",
        "\n",
        "\n"
      ],
      "metadata": {
        "id": "3HT6psayWFCc"
      }
    },
    {
      "cell_type": "markdown",
      "source": [
        "## Data Imports & Table Content\n",
        "\n",
        "---\n",
        "\n",
        "In this worksheet you will use data from a dataset in an Excel spreadsheet called public_use-talent-migration.xlsx. This spreadsheet file contains 3 sheets, each with related but different data on migration.   \n",
        "\n",
        "Running the code below will create a dataframe from each of the 3 sheets and will display the column names and data types so that you can start to get an idea of what is in the data.\n",
        "\n",
        "You can then use these dataframes in the exercises, rather than keep re-reading the original files. The 3 dataframes will be called:\n",
        "\n",
        "*  skill_migration\n",
        "*  industry_migration\n",
        "*  country_migration"
      ],
      "metadata": {
        "id": "szKiU-timLdN"
      }
    },
    {
      "cell_type": "code",
      "source": [
        "import pandas as pd\n",
        "\n",
        "skill_migration = pd.read_excel('https://github.com/futureCodersSE/working-with-data/blob/main/Data%20sets/public_use-talent-migration.xlsx?raw=true', \"Skill Migration\")\n",
        "industry_migration = pd.read_excel('https://github.com/futureCodersSE/working-with-data/blob/main/Data%20sets/public_use-talent-migration.xlsx?raw=true', \"Industry Migration\")\n",
        "country_migration = pd.read_excel('https://github.com/futureCodersSE/working-with-data/blob/main/Data%20sets/public_use-talent-migration.xlsx?raw=true', \"Country Migration\")\n",
        "\n",
        "def get_summary(df):\n",
        "  display(df.info())\n",
        "\n",
        "get_summary(skill_migration)\n",
        "get_summary(industry_migration)\n",
        "get_summary(country_migration)"
      ],
      "metadata": {
        "id": "ZG_96PAAhaVY"
      },
      "execution_count": null,
      "outputs": []
    },
    {
      "cell_type": "markdown",
      "source": [
        "# Exercise 1\n",
        "\n",
        "---\n",
        "\\\n",
        "Write a function that will take the `skill_migration` dataframe as a parameter and will:\n",
        "*  filter for the rows where the `wb_income` contains `High income`.\n",
        "*  return the number of rows (length of the dataframe)."
      ],
      "metadata": {
        "id": "fL-D9LkmNr9g"
      }
    },
    {
      "cell_type": "code",
      "source": [
        "def filter_income(df):\n",
        "  # add code below to find the number of high income countries using the wb_income column\n",
        "\n",
        "\n",
        "\n",
        "#run test to see if you are getting the correct row length\n",
        "actual = filter_income(skill_migration)\n",
        "expected = 8904\n",
        "\n",
        "if actual == expected:\n",
        "  print(\"Test passed!\\nExpected: {}\\nActual: {}\".format(expected, actual))\n",
        "else:\n",
        "  print(\"Test failed!\\nExpected: {}\\nActual: {}\".format(expected, actual))"
      ],
      "metadata": {
        "id": "IHHR1T1kOZmq"
      },
      "execution_count": null,
      "outputs": []
    },
    {
      "cell_type": "markdown",
      "source": [
        "# Exercise 2\n",
        "\n",
        "---\n",
        "\\\n",
        "Write a function that will take the `skill_migration` dataframe, and a particular type of `skill` (e.g. Tech skills) as parameters and will:\n",
        "*  filter for the rows that have a `skill_group_category` equal to the given `skill`.\n",
        "*  return the country that shows up the most in the `country_name` column of the filtered dataframe."
      ],
      "metadata": {
        "id": "rO3uDHEEPhIp"
      }
    },
    {
      "cell_type": "code",
      "source": [
        "import pandas as pd\n",
        "\n",
        "skill_migration = pd.read_excel('https://github.com/futureCodersSE/working-with-data/blob/main/Data%20sets/public_use-talent-migration.xlsx?raw=true', \"Skill Migration\")\n",
        "\n",
        "def filter_skills(df, skill):\n",
        "  # add code below to find all rows that have the skill 'skill' and return the most common country (mode)\n",
        "\n",
        "\n",
        "\n",
        "#run test to see if you are getting the most frequent country name\n",
        "tests = [\n",
        "    { \"id\": 1, \"actual\": filter_skills(skill_migration, \"Tech Skills\")[0], \"expected\": \"Australia\" },\n",
        "    { \"id\": 2, \"actual\": filter_skills(skill_migration, \"Business Skills\")[0], \"expected\": \"Australia\" },\n",
        "    { \"id\": 3, \"actual\": filter_skills(skill_migration, \"Specialized Industry Skills\")[0], \"expected\": \"United Kingdom\" }\n",
        "]\n",
        "\n",
        "for test in tests:\n",
        "  if test[\"actual\"] == test[\"expected\"]:\n",
        "    print(\"Test {} passed!\\nExpected: {}\\nActual: {}\\n\".format(test[\"id\"], test[\"expected\"], test[\"actual\"]))\n",
        "  else:\n",
        "    print(\"Test {} failed!\\nExpected: {}\\nActual: {}\\n\".format(test[\"id\"], test[\"expected\"], test[\"actual\"]))"
      ],
      "metadata": {
        "id": "aYfnMp0RQ4Dr"
      },
      "execution_count": null,
      "outputs": []
    },
    {
      "cell_type": "markdown",
      "source": [
        "# Exercise 3\n",
        "\n",
        "---\n",
        "\\\n",
        "Write a function that will take the `skill_migration` dataframe as a parameter and will:\n",
        "*  filter, using two conditions, for the rows where `skill_group_id` is `2265` and `net_per_10K_2019` is greater than `-500`.\n",
        "*  sort the rows in ascending order based on `net_per_10K_2019`\n",
        "*  return the first 5 rows."
      ],
      "metadata": {
        "id": "hs4N75oOQ5vy"
      }
    },
    {
      "cell_type": "code",
      "source": [
        "def filter_skill_id(df):\n",
        "  # add code below to find all rows that the skill id 2265 with greater than -500 migration and return the first 5 rows when sorted into order of net_per_10K_2019\n",
        "\n",
        "\n",
        "\n",
        "#run test to see if you are getting the correct first row and only returning 5 items\n",
        "filtered_df = filter_skill_id(skill_migration)\n",
        "actual1 = filtered_df.index[0]\n",
        "expected1 = 14550\n",
        "actual2 = len(filtered_df)\n",
        "expected2 = 5\n",
        "\n",
        "if actual1 == expected1 and actual2 == expected2:\n",
        "  print(\"Test passed!\\nExpected: {} & {}\\nActual: {} & {}\".format(expected1, expected2, actual1, actual2))\n",
        "else:\n",
        "  print(\"Test failed!\\nExpected: {} & {}\\nActual: {} & {}\".format(expected1, expected2, actual1, actual2))"
      ],
      "metadata": {
        "id": "eYuGy4UXQ4um"
      },
      "execution_count": null,
      "outputs": []
    },
    {
      "cell_type": "markdown",
      "source": [
        "# Exercise 4\n",
        "\n",
        "---\n",
        "\\\n",
        "Write a function that will take the country_migration dataframe and an amount of net per 10K migrations as parameters and will:\n",
        "*  filter for all rows with a `net_per_10K_2019` less than `amount`\n",
        "*  return the number of rows.\n",
        "\n"
      ],
      "metadata": {
        "id": "br8aWPZvRnhA"
      }
    },
    {
      "cell_type": "code",
      "source": [
        "def filter_net_per_10k(df, amount):\n",
        "  # add code below to find all the rows where the net_per_10K_2019 is less than the `amount` parameter\n",
        "\n",
        "\n",
        "\n",
        "#run test to see if you are getting the correct first row and only returning 5 items\n",
        "tests = [\n",
        "    { \"id\": 1, \"actual\": filter_net_per_10k(country_migration, 100), \"expected\": 4148 },\n",
        "    { \"id\": 2, \"actual\": filter_net_per_10k(country_migration, 0), \"expected\": 1980 },\n",
        "    { \"id\": 3, \"actual\": filter_net_per_10k(country_migration, -100), \"expected\": 0 }\n",
        "]\n",
        "\n",
        "for test in tests:\n",
        "  if test[\"actual\"] == test[\"expected\"]:\n",
        "    print(\"Test {} passed!\\nExpected: {}\\nActual: {}\\n\".format(test[\"id\"], test[\"expected\"], test[\"actual\"]))\n",
        "  else:\n",
        "    print(\"Test {} failed!\\nExpected: {}\\nActual: {}\\n\".format(test[\"id\"], test[\"expected\"], test[\"actual\"]))"
      ],
      "metadata": {
        "id": "6qL6UNVBRo80"
      },
      "execution_count": null,
      "outputs": []
    },
    {
      "cell_type": "markdown",
      "source": [
        "# Exercise 5\n",
        "\n",
        "---\n",
        "\\\n",
        "Write a function that will take the `country_migration` dataframe as a parameter and will:\n",
        "*  filter for all rows where both `net_per_10K_2015` and `net_per_10K_2016` values are greater than `50`.\n",
        "*  return the number of rows"
      ],
      "metadata": {
        "id": "lFXbG6c2SUik"
      }
    },
    {
      "cell_type": "code",
      "source": [
        "def filter_two_net(df):\n",
        "  # add code below to find rows which have migration in 2015 & 2016 greater than 50\n",
        "\n",
        "\n",
        "\n",
        "#run test to see if you are getting the correct length of rows\n",
        "actual = filter_two_net(country_migration)\n",
        "expected = 3\n",
        "\n",
        "if actual == expected:\n",
        "  print(\"Test passed!\\nExpected: {}\\nActual: {}\".format(expected, actual))\n",
        "else:\n",
        "  print(\"Test failed!\\nExpected: {}\\nActual: {}\".format(expected, actual))"
      ],
      "metadata": {
        "id": "CxfijlHGSW60"
      },
      "execution_count": null,
      "outputs": []
    },
    {
      "cell_type": "markdown",
      "source": [
        "# Exercise 6\n",
        "\n",
        "---\n",
        "\\\n",
        "Write a function that will take the `country_migration` dataframe as a parameter and will:\n",
        "*  filter for all migrations from countries with `Low Income` to countries with `Upper Middle Income`and within the same region ( `base_country_wb_region` is the same as `target_country_wb_region`)\n",
        "*  display the number of rows."
      ],
      "metadata": {
        "id": "OJuBYhzaS3r1"
      }
    },
    {
      "cell_type": "code",
      "source": [
        "def filter_two_income(df):\n",
        "  # add code below to find all rows of migration from low income to upper middle income and where migration was to the same region\n",
        "\n",
        "\n",
        "\n",
        "#run test to see if you are getting the correct first length of rows\n",
        "actual = filter_two_income(country_migration)\n",
        "expected = 15\n",
        "\n",
        "if actual == expected:\n",
        "  print(\"Test passed!\\nExpected: {}\\nActual: {}\".format(expected, actual))\n",
        "else:\n",
        "  print(\"Test failed!\\nExpected: {}\\nActual: {}\".format(expected, actual))"
      ],
      "metadata": {
        "id": "Wq0i2dCYTPxE"
      },
      "execution_count": null,
      "outputs": []
    },
    {
      "cell_type": "markdown",
      "source": [
        "# Exercise 7\n",
        "\n",
        "---\n",
        "\\\n",
        "Write a function that will take the `industry_migration` dataframe as a parameter and will:\n",
        "*  filter for all rows which have a `isic_section_index` of `M` and the `industry_name`,  `Biotechnology`\n",
        "*  return the number of rows."
      ],
      "metadata": {
        "id": "aDvp-O4LTXbp"
      }
    },
    {
      "cell_type": "code",
      "source": [
        "def filter_industry(df):\n",
        "  # add code below to find all the rows from biotechnology industry with isic section index of M\n",
        "\n",
        "\n",
        "\n",
        "#run test to see if you are getting the correct length of rows\n",
        "actual = filter_industry(industry_migration)\n",
        "expected = 32\n",
        "\n",
        "if actual == expected:\n",
        "  print(\"Test passed!\\nExpected: {}\\nActual: {}\".format(expected, actual))\n",
        "else:\n",
        "  print(\"Test failed!\\nExpected: {}\\nActual: {}\".format(expected, actual))"
      ],
      "metadata": {
        "id": "n_V5moucTRnP"
      },
      "execution_count": null,
      "outputs": []
    },
    {
      "cell_type": "markdown",
      "source": [
        "# Exercise 8\n",
        "\n",
        "---\n",
        "\\\n",
        "Write a function that will take the `industry_migration` dataframe as a parameter and will:\n",
        "*  filter for all rows with `industry_name` of `Computer Software` that have a `wb_income` of `Low income`.\n",
        "*  return the filtered dataframe"
      ],
      "metadata": {
        "id": "Pu-V4x7oTXg3"
      }
    },
    {
      "cell_type": "code",
      "source": [
        "def filter_industry_income(df):\n",
        "  # add code below to find Low Income Computer Software migrations, return the full set of filtered data\n",
        "\n",
        "\n",
        "\n",
        "#run test to see if you are getting the correct first row and only returning 1 item\n",
        "filtered_df = filter_industry_income(industry_migration)\n",
        "actual1 = filtered_df.index[0]\n",
        "expected1 = 3699\n",
        "actual2 = len(filtered_df)\n",
        "expected2 = 1\n",
        "\n",
        "if actual1 == expected1 and actual2 == expected2:\n",
        "  print(\"Test passed!\\nExpected: {} & {}\\nActual: {} & {}\".format(expected1, expected2, actual1, actual2))\n",
        "else:\n",
        "  print(\"Test failed!\\nExpected: {} & {}\\nActual: {} & {}\".format(expected1, expected2, actual1, actual2))"
      ],
      "metadata": {
        "id": "WqVliNlGTWXV"
      },
      "execution_count": null,
      "outputs": []
    },
    {
      "cell_type": "markdown",
      "source": [
        "# Exercise 9\n",
        "\n",
        "---\n",
        "\\\n",
        "Write a function that will take the `industry_migration` dataframe as a parameter and will:\n",
        "*  filter for all rows with `country_name` of United States or United Kingdom and a `isic_section_index` of M\n",
        "*  return the average of `net_per_10K_2015`."
      ],
      "metadata": {
        "id": "O7o6mgU2TXl_"
      }
    },
    {
      "cell_type": "code",
      "source": [
        "def filter_country(df):\n",
        "  # add code below to find all USA and UK rows which have ISIC of M and return mean migration in 2015\n",
        "\n",
        "\n",
        "\n",
        "#run test to see if you are getting the correct average\n",
        "actual = round(filter_country(industry_migration), 2)\n",
        "expected = 47.28\n",
        "\n",
        "if actual == expected:\n",
        "  print(\"Test passed!\\nExpected: {}\\nActual: {}\".format(expected, actual))\n",
        "else:\n",
        "  print(\"Test failed!\\nExpected: {}\\nActual: {}\".format(expected, actual))"
      ],
      "metadata": {
        "id": "izOkixeATWd_"
      },
      "execution_count": null,
      "outputs": []
    },
    {
      "cell_type": "markdown",
      "source": [
        "# Exercise 10\n",
        "---\n",
        "\\\n",
        "Write a function that will take the `country_migration` dataframe and a base region as paramters and will:\n",
        "*  filter for all migrations to Upper Middle Income and High Income regions (`target_country_wb_income`) from the given region (`base_country_wb_region`)"
      ],
      "metadata": {
        "id": "5tRpo0nz_8I7"
      }
    },
    {
      "cell_type": "code",
      "source": [
        "def filter_migrations(df, region):\n",
        "\n",
        "\n",
        "\n",
        "# run test to see if you are getting the correct result\n",
        "actual = filter_migrations(country_migration, \"Middle East & North Africa\")\n",
        "expected = 432\n",
        "if actual == expected:\n",
        "  print(\"Test passed!\\nExpected: {}\\nActual: {}\".format(expected, actual))\n",
        "else:\n",
        "  print(\"Test failed!\\nExpected: {}\\nActual: {}\".format(expected, actual))"
      ],
      "metadata": {
        "id": "LgpA-IDkANsa"
      },
      "execution_count": null,
      "outputs": []
    },
    {
      "cell_type": "markdown",
      "metadata": {
        "id": "yQyytEbnZ1lw"
      },
      "source": [
        "# Reflection\n",
        "----\n",
        "\n",
        "## What skills have you demonstrated in completing this notebook?"
      ]
    },
    {
      "cell_type": "markdown",
      "metadata": {
        "id": "MM00hR5aZk1-"
      },
      "source": [
        "Your answer:"
      ]
    },
    {
      "cell_type": "markdown",
      "metadata": {
        "id": "Zgexd27sZ1ly"
      },
      "source": [
        "## What caused you the most difficulty?"
      ]
    },
    {
      "cell_type": "markdown",
      "metadata": {
        "id": "-Y_nrVBwaGXr"
      },
      "source": [
        "Your answer:"
      ]
    }
  ]
}