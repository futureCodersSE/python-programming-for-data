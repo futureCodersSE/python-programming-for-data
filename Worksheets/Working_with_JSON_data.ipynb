{
  "nbformat": 4,
  "nbformat_minor": 0,
  "metadata": {
    "colab": {
      "provenance": [],
      "include_colab_link": true
    },
    "kernelspec": {
      "name": "python3",
      "display_name": "Python 3"
    },
    "language_info": {
      "name": "python"
    }
  },
  "cells": [
    {
      "cell_type": "markdown",
      "metadata": {
        "id": "view-in-github",
        "colab_type": "text"
      },
      "source": [
        "<a href=\"https://colab.research.google.com/github/futureCodersSE/python-programming-for-data/blob/main/Worksheets/Working_with_JSON_data.ipynb\" target=\"_parent\"><img src=\"https://colab.research.google.com/assets/colab-badge.svg\" alt=\"Open In Colab\"/></a>"
      ]
    },
    {
      "cell_type": "markdown",
      "source": [
        "# Getting data from APIs and working with the JSON format and Python dictionaries\n",
        "---\n",
        "\\\n",
        "Often, the data we need to work with is updated at regular intervals.  If this is the case, then we need to be able to access it, process it and store it repeatedly.  This type of data often comes from APIs and it is in its 'raw' form, not organised into tables ready for a spreadsheet or for a pandas dataframe.\n",
        "\n",
        "Data from APIs is requested and often turns up in JSON format.  This is a structured format, very much like the structure of a python dictionary, and is stored as text.  This makes it quite small and, therefore, economic and fast to transfer.\n",
        "\n",
        "The exercises below will get you to look at the data requested from an API (from Punk Beer), turn it into a dictionary, and manipulate it to get useful information from it.\n",
        "\n",
        "Towards the end you will turn some of the data into a pandas dataframe, which is sometimes the required outcome of processing - to turn the data into table format for analysis in a spreadsheet or a pandas dataframe.\n",
        "\n",
        "The pandas library provides some useful functions for converting dictionary data (which has been created from the JSON data) into a data table, and expanding it to increase the amount of records (sometimes creating repetition) so that you can perform common functions, like averages, linear regressions, categorisation, etc, where appropriate to the data)\n",
        "\n",
        "Two useful functions for this worksheet are:\n",
        "\n",
        "`df = pd.DataFrame(json_data)` \n",
        "\n",
        "This will take data in dictionary format and create a table from the top level keys (you will be able to see this when you get to Exercises 8 and 9).  When working with JSON data, converted to dictionaries, you should always inspect the data to see how it is organised and to see which parts of it are useful and which can be discarded.  You will then be able to create the dataframe from the useful data, where this makes sense as a table.\n",
        "\n",
        "**Run the code** below to get an idea of how the dataframe with a list might look."
      ],
      "metadata": {
        "id": "zysGrkwm5KAg"
      }
    },
    {
      "cell_type": "code",
      "source": [
        "import pandas as pd\n",
        "\n",
        "json_data_dict = {\"furniture\":[{\"item\":\"sofa\", \"colours\":[\"red\", \"green\",\"lilac\"]},{\"item\":\"armchair\",\"colours\":[\"black\",\"beige\",\"green\"]}]}\n",
        "df = pd.DataFrame(json_data_dict[\"furniture\"])\n",
        "display(df)"
      ],
      "metadata": {
        "id": "xTK9_1KShCkm"
      },
      "execution_count": null,
      "outputs": []
    },
    {
      "cell_type": "markdown",
      "source": [
        "We can expand (or explode) this dataframe so that it has one row for each column.\n",
        "\n",
        "`df = df.explode(column_name)`\n",
        "\n",
        "This will take a dataframe with a column that contains lists of items (often the case where data is from a JSON source) and will create a row for each item in the list, containing all the other data that was associated with that list.  So the example dataframe will be exploded to a dataframe with 6 rows instead of 2, but with a fair amount of repetition.\n",
        "\n",
        "**Run the code** below to see how the dataframe would look if the colours column is exploded into separate rows for each item in the list."
      ],
      "metadata": {
        "id": "9WdwHyeKiHHC"
      }
    },
    {
      "cell_type": "code",
      "source": [
        "exploded_df = df.explode(\"colours\")\n",
        "display(exploded_df)"
      ],
      "metadata": {
        "id": "y_EYnaqKiuT7"
      },
      "execution_count": null,
      "outputs": []
    },
    {
      "cell_type": "markdown",
      "source": [
        "You will notice that the index has been kept from the original 2 row dataframe.  For this dataframe to be used, it may be necessary to re-index.  This can be done easily using the parameter `ignore_index=True` in the df.explode(column_name) instruction, as shown when you **run the code** below:"
      ],
      "metadata": {
        "id": "fTiTJT0NjaxS"
      }
    },
    {
      "cell_type": "code",
      "source": [
        "exploded_df = df.explode(\"colours\", ignore_index=True)\n",
        "display(exploded_df)"
      ],
      "metadata": {
        "id": "DnC2tp-Mjt2_"
      },
      "execution_count": null,
      "outputs": []
    },
    {
      "cell_type": "markdown",
      "source": [
        "### Exercise 1 - getting the data\n",
        "---\n",
        "\\\n",
        "APIs can sometimes be charged, so minimising the number of times you call them is important.  This one is free but will be blocked if requested too many times in a short period.  So you will call it once each time you open this worksheet, then will use the variable `beer_data` to access the data.\n",
        "\n",
        "**Run the code** below to request the data from the API. This particular API will return a list of dictionaries (as you will see from the printout). \n",
        "\n",
        "The code will assign the data from the API to a variable called **beer_data** so that we don't keep calling the API. "
      ],
      "metadata": {
        "id": "7OhdwWh3-4dB"
      }
    },
    {
      "cell_type": "code",
      "execution_count": null,
      "metadata": {
        "id": "EG_Z3ZCY-1nj"
      },
      "outputs": [],
      "source": [
        "import requests\n",
        "\n",
        "beer_data = requests.get(\"https://api.punkapi.com/v2/beers\").json()\n",
        "print(beer_data)"
      ]
    },
    {
      "cell_type": "markdown",
      "source": [
        "### Exercise 2 - `beer_data` is a list of dictionaries.  Get the first item in the list and print its keys and values.\n",
        "---\n",
        "\\\n",
        "Write a function that will:\n",
        "*  get the first dictionary in the list of dictionaries in `beer_data`\n",
        "*  get the dictionary's keys as a list\n",
        "*  loop through the list of keys and print the key and its corresponding value \n",
        "\n",
        "**Expected output**:  \n",
        "id  -  1  \n",
        "name  -  Buzz  \n",
        "tagline  -  A Real Bitter Experience.  \n",
        "first_brewed  -  09/2007  \n",
        "description  -  A light, crisp and bitter IPA brewed with English and American hops. A small batch brewed only once.  \n",
        "image_url  -  https://images.punkapi.com/v2/keg.png  \n",
        "abv  -  4.5  \n",
        "ibu  -  60  \n",
        "target_fg  -  1010  \n",
        "target_og  -  1044  \n",
        "ebc  -  20  \n",
        "srm  -  10  \n",
        "ph  -  4.4  \n",
        "attenuation_level  -  75  \n",
        "volume  -  {'value': 20, 'unit': 'litres'}  \n",
        "boil_volume  -  {'value': 25, 'unit': 'litres'}  \n",
        "method  -  {'mash_temp': [{'temp': {'value': 64, 'unit': 'celsius'}, 'duration': 75}], 'fermentation': {'temp': {'value': 19, 'unit': 'celsius'}}, 'twist': None}  \n",
        "ingredients  -  {'malt': [{'name': 'Maris Otter Extra Pale', 'amount': {'value': 3.3, 'unit': 'kilograms'}}, {'name': 'Caramalt', 'amount': {'value': 0.2, 'unit': 'kilograms'}}, {'name': 'Munich', 'amount': {'value': 0.4, 'unit': 'kilograms'}}], 'hops': [{'name': 'Fuggles', 'amount': {'value': 25, 'unit': 'grams'}, 'add': 'start', 'attribute': 'bitter'}, {'name': 'First Gold', 'amount': {'value': 25, 'unit': 'grams'}, 'add': 'start', 'attribute': 'bitter'}, {'name': 'Fuggles', 'amount': {'value': 37.5, 'unit': 'grams'}, 'add': 'middle', 'attribute': 'flavour'}, {'name': 'First Gold', 'amount': {'value': 37.5, 'unit': 'grams'}, 'add': 'middle', 'attribute': 'flavour'}, {'name': 'Cascade', 'amount': {'value': 37.5, 'unit': 'grams'}, 'add': 'end', 'attribute': 'flavour'}], 'yeast': 'Wyeast 1056 - American Ale™'}  \n",
        "food_pairing  -  ['Spicy chicken tikka masala', 'Grilled chicken quesadilla', 'Caramel toffee cake']  \n",
        "brewers_tips  -  The earthy and floral aromas from the hops can be overpowering. Drop a little Cascade in at the end of the boil to lift the profile with a bit of citrus.  \n",
        "contributed_by  -  Sam Mason <samjbmason>  "
      ],
      "metadata": {
        "id": "5Esq8X3mADkK"
      }
    },
    {
      "cell_type": "code",
      "source": [
        "def print_key_value_pairs(data):\n",
        "  # add your code here\n",
        "\n",
        "\n",
        "print_key_value_pairs(beer_data)"
      ],
      "metadata": {
        "id": "eTFUPwGNAKW9"
      },
      "execution_count": null,
      "outputs": []
    },
    {
      "cell_type": "markdown",
      "source": [
        "### Exercise 3 - Create a new list with the name and ABV of only the beers that are under 5% ABV.\n",
        "---\n",
        "\\\n",
        "Write a function that will take a copy of `beer_data` as a parameter and will:\n",
        "*  loop through the list and copy any beer that has an ABV less than 5% (a dictionary containing name and ABV only) into a new list\n",
        "*  loop through the new list and print the name of each beer and the abv one per line\n",
        "\n",
        "**Expected output**: \n",
        "\n",
        "Buzz - 4.5  \n",
        "Trashy Blonde - 4.1  \n",
        "Berliner Weisse With Yuzu - B-Sides - 4.2  \n",
        "Fake Lager - 4.7  \n",
        "Movember - 4.5  \n",
        "Alpha Dog - 4.5  \n",
        "Vice Bier - 4.3  \n",
        "Bad Pixie - 4.7  \n",
        "\n"
      ],
      "metadata": {
        "id": "1suQ0nn5AM2y"
      }
    },
    {
      "cell_type": "code",
      "source": [
        "def get_low_ABV_list(data):\n",
        "  filtered_data = []\n",
        "  # add your code below here\n",
        "\n",
        "  return filtered_data\n",
        "\n",
        "\n",
        "# Testing the function\n",
        "actual = len(get_low_ABV_list(beer_data))\n",
        "expected = 8\n",
        "print()\n",
        "if actual == expected:\n",
        "  print(\"Passed! got {}\".format(actual))\n",
        "else: \n",
        "  print(\"Failed! got {} when expected output is {}\".format(actual, expected))"
      ],
      "metadata": {
        "id": "oGR4_rx9Gamb"
      },
      "execution_count": null,
      "outputs": []
    },
    {
      "cell_type": "markdown",
      "source": [
        "### Exercise 4 - Print a label for each bottle of beer using the data. \n",
        "---\n",
        "\\\n",
        "Write a function that will:\n",
        "*  loop through the beers\n",
        "*  for each beer, print a 'label' in the form shown below (*must include [name, tagline, first_brewed, description, abv]*)\n",
        "\n",
        "**Expected output (all labels to look like this first one):**  \n",
        "Buzz - A Real Bitter Experience.  \n",
        "Created on 09/2007  \n",
        "A light, crisp and bitter IPA brewed with English and American hops. A small batch brewed only once.  \n",
        "4.5% alc. by vol.  "
      ],
      "metadata": {
        "id": "14aqJTFyVSWZ"
      }
    },
    {
      "cell_type": "code",
      "source": [
        "def print_labels(data):\n",
        "  # add your code here\n",
        "\n",
        "\n",
        "\n",
        "print_labels(beer_data)"
      ],
      "metadata": {
        "id": "sy_2R4PQMTzX"
      },
      "execution_count": null,
      "outputs": []
    },
    {
      "cell_type": "markdown",
      "source": [
        "### Exercise 5 - Print the beer name and the brewing ingredients list for each beer.\n",
        "---\n",
        "\\\n",
        "Write a function that will:\n",
        "*  loop through the data\n",
        "*  for each, print the name and the ingredients list in the format shown below\n",
        "\n",
        "**Expected output:**  \n",
        "Buzz\n",
        "\n",
        "malt:  \n",
        "Maris Otter Extra Pale  \n",
        "Caramalt  \n",
        "Munich  \n",
        "\n",
        "hops:  \n",
        "Fuggles - start  \n",
        "First Gold - start  \n",
        "Fuggles - middle  \n",
        "First Gold - middle  \n",
        "Cascade - end  \n",
        "\n",
        "yeast:  \n",
        "Wyeast 1056 - American Ale™"
      ],
      "metadata": {
        "id": "b4RTRJVISuPa"
      }
    },
    {
      "cell_type": "code",
      "source": [
        "def print_ingredients(data):\n",
        "  # add your code below here\n",
        "\n",
        "\n",
        "\n",
        "print_ingredients(beer_data)"
      ],
      "metadata": {
        "id": "jzGntJ_uMa1x"
      },
      "execution_count": null,
      "outputs": []
    },
    {
      "cell_type": "markdown",
      "source": [
        "### Exercise 6 - Create a pandas dataframe from the data and create a copy of just the first 14 columns. \n",
        "---\n",
        "\\\n",
        "Write a function that will:\n",
        "*  convert the `beer_data` into a pandas dataframe\n",
        "*  create a second dataframe containing only the first 14 columns of the original\n",
        "*  return the second dataframe"
      ],
      "metadata": {
        "id": "cyz8mjDbAKrI"
      }
    },
    {
      "cell_type": "code",
      "source": [
        "import pandas as pd\n",
        "\n",
        "def get_14_col_dataframe(data):\n",
        "  # add your code below here\n",
        "\n",
        "\n",
        "  return df\n",
        "\n",
        "# Testing the function\n",
        "actual = get_14_col_dataframe(beer_data)\n",
        "expected = 14\n",
        "\n",
        "if len(actual.columns) == expected:\n",
        "  print(\"Passed! got {}\".format(len(actual.columns)))\n",
        "else:\n",
        "  print(\"Failed! got {} expected {}\".format(len(actual.columns), expected))"
      ],
      "metadata": {
        "id": "4juAxPYvAMgn"
      },
      "execution_count": null,
      "outputs": []
    },
    {
      "cell_type": "markdown",
      "source": [
        "### Exercise 7 - create a dataframe with the id, name and all the method information.\n",
        "---\n",
        "\\\n",
        "Write a function that will:\n",
        "*  create dataframe made from just the id, name and method columns in the `beer_data`\n",
        "*  return the new dataframe"
      ],
      "metadata": {
        "id": "62jLbNvVAOvn"
      }
    },
    {
      "cell_type": "code",
      "source": [
        "def get_method_dataframe(data):\n",
        "  #  add your code below here\n",
        "\n",
        "\n",
        "  return df\n",
        "\n",
        "\n",
        "# Testing the function\n",
        "new_df = get_method_dataframe(beer_data)\n",
        "actual = list(new_df.columns)\n",
        "expected = ['id', 'name', 'method']\n",
        "\n",
        "if actual == expected:\n",
        "  print(\"Passed! got {}\".format(actual))\n",
        "else:\n",
        "  print(\"Failed! got {} expected {}\".format(actual, expected))"
      ],
      "metadata": {
        "id": "UGN-_dCxARFj"
      },
      "execution_count": null,
      "outputs": []
    },
    {
      "cell_type": "markdown",
      "source": [
        "### Exercise 8 - create a dataframe with id, name and food pairing.\n",
        "---\n",
        "\\\n",
        "Write a function that will:\n",
        "*  create dataframe made from just the id, name and method columns in the `beer_data`\n",
        "*  return the new dataframe"
      ],
      "metadata": {
        "id": "tsKPZqb4AQqp"
      }
    },
    {
      "cell_type": "code",
      "source": [
        "def get_food_pairing_dataframe(data):\n",
        "  # add your code below here\n",
        "\n",
        "\n",
        "\n",
        "  return df\n",
        "\n",
        "\n",
        "# Testing the function\n",
        "actual = get_food_pairing_dataframe(beer_data)\n",
        "expected = 3\n",
        "\n",
        "if len(actual.columns) == expected:\n",
        "  print(\"Passed! got {}\".format(len(actual.columns)))\n",
        "else:\n",
        "  print(\"Failed! got {} expected {}\".format(len(actual.columns), expected))"
      ],
      "metadata": {
        "id": "NtDH9WUZAT-e",
        "colab": {
          "base_uri": "https://localhost:8080/"
        },
        "outputId": "d046044d-f441-4ab5-b50e-22f408f8359e"
      },
      "execution_count": null,
      "outputs": [
        {
          "output_type": "stream",
          "name": "stdout",
          "text": [
            "Passed! got 3\n"
          ]
        }
      ]
    },
    {
      "cell_type": "markdown",
      "source": [
        "### Exercise 9 - Find all beers that pair with Smoked chicken wings.\n",
        "---\n",
        "\\\n",
        "Write a function that will take the `beer_data` and a food as parameters and will:\n",
        "*  return a list of all the beers that pair well with that food.\n",
        "\n",
        "_Hint: you can process this as a dictionary (original `beer_data`) or convert to pandas, explode on the `food_pairing` column and filter_"
      ],
      "metadata": {
        "id": "pxaUX0vKRkDW"
      }
    },
    {
      "cell_type": "code",
      "source": [
        "def get_beers_food_pair(data, food):\n",
        "  # add your code below here\n",
        "\n",
        "\n",
        "  return paired_df\n",
        "\n",
        "\n",
        "# Testing the function\n",
        "actual = get_beers_food_pair(beer_data, \"Smoked chicken wings\")\n",
        "expected = 1\n",
        "\n",
        "if len(actual) == expected:\n",
        "  print(\"Passed! got {}\".format(len(actual)))\n",
        "else:\n",
        "  print(\"Failed! got {} expected {}\".format(len(actual), expected))\n"
      ],
      "metadata": {
        "id": "6OjaEr0oSqsE"
      },
      "execution_count": null,
      "outputs": []
    },
    {
      "cell_type": "markdown",
      "source": [
        "### Exercise 10 - Calculate the average ph value and then print all beers above the average (less acidic) with their ph value.\n",
        "---\n",
        "\\\n",
        "Write a function that will take `beer_data` as a parameter and will:\n",
        "*  create a dataframe with just the columns `id, name, ph`\n",
        "*  calculate the average ph\n",
        "*  filter for all beers that have an above average ph value (so they are less acidic)\n",
        "*  display and return the filtered data"
      ],
      "metadata": {
        "id": "ucJWuMDsXLGv"
      }
    },
    {
      "cell_type": "code",
      "source": [
        "def get_less_acidic(data):\n",
        "  # add your code below here\n",
        "\n",
        "\n",
        "  return less_acidic_df\n",
        "  \n",
        "\n",
        "# Testing the function\n",
        "actual = get_less_acidic(beer_data)\n",
        "expected_shape = (4,3)\n",
        "\n",
        "if actual.shape == expected_shape:\n",
        "  print(\"Passed! got {} rows and {} columns\".format(actual.shape[0], actual.shape[1]))\n",
        "else:\n",
        "  print(\"Failed! got {} rows and {} columns, expected {} rows and {} columns\".format(actual.shape[0], actual.shape[1], expected_shape[0], expected_shape[1]))"
      ],
      "metadata": {
        "id": "EGEn33r8qhk4"
      },
      "execution_count": null,
      "outputs": []
    }
  ]
}