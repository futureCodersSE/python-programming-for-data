{
  "nbformat": 4,
  "nbformat_minor": 0,
  "metadata": {
    "colab": {
      "provenance": [],
      "authorship_tag": "ABX9TyP4gx1eUq3O4xzT1cT8qczH",
      "include_colab_link": true
    },
    "kernelspec": {
      "name": "python3",
      "display_name": "Python 3"
    },
    "language_info": {
      "name": "python"
    }
  },
  "cells": [
    {
      "cell_type": "markdown",
      "metadata": {
        "id": "view-in-github",
        "colab_type": "text"
      },
      "source": [
        "<a href=\"https://colab.research.google.com/github/futureCodersSE/python-programming-for-data/blob/main/Worksheets/Data_cleaning_with_normalisation_challenges.ipynb\" target=\"_parent\"><img src=\"https://colab.research.google.com/assets/colab-badge.svg\" alt=\"Open In Colab\"/></a>"
      ]
    },
    {
      "cell_type": "markdown",
      "metadata": {
        "id": "qKkgkBgnagnq"
      },
      "source": [
        "#  Normalisation challenges"
      ]
    },
    {
      "cell_type": "markdown",
      "metadata": {
        "id": "gHU4-ADHU4eq"
      },
      "source": [
        "### Challenge 1 - prepare dataset for normalisation\n",
        "---\n",
        "1. Read Covid vaccination data from the `by_country` sheet in the Excel file at this link : https://github.com/lilaceri/Working-with-data-/blob/342abab10d93c4bf23b5c55a50f189f12a137c5f/Data%20Sets%20for%20code%20divisio/Covid%20Vaccination%20Data.xlsx?raw=true.  **Store it in a global variable called `migration_df`**.\n",
        "2. Use .info() to find out which columns in `migration_df` have missing values\n",
        "\n",
        "\n",
        "\n",
        "**Test output**:  \n",
        "1. dataframe is saved in a variable\n",
        "2.\n",
        "```\n",
        "RangeIndex: 14994 entries, 0 to 14993\n",
        "Data columns (total 15 columns):\n",
        "    Column                               Non-Null Count  Dtype         \n",
        "                                \n",
        " 0   country                              14994 non-null  object        \n",
        " 1   iso_code                             14994 non-null  object        \n",
        " 2   date                                 14994 non-null  datetime64[ns]\n",
        " 3   total_vaccinations                   9011 non-null   float64       \n",
        " 4   people_vaccinated                    8370 non-null   float64       \n",
        " 5   people_fully_vaccinated              6158 non-null   float64       \n",
        " 6   daily_vaccinations_raw               7575 non-null   float64       \n",
        " 7   daily_vaccinations                   14796 non-null  float64       \n",
        " 8   total_vaccinations_per_hundred       9011 non-null   float64       \n",
        " 9   people_vaccinated_per_hundred        8370 non-null   float64       \n",
        " 10  people_fully_vaccinated_per_hundred  6158 non-null   float64       \n",
        " 11  daily_vaccinations_per_million       14796 non-null  float64       \n",
        " 12  vaccines                             14994 non-null  object        \n",
        " 13  source_name                          14994 non-null  object        \n",
        " 14  source_website                       14994 non-null  object        \n",
        "dtypes: datetime64[ns](1), float64(9), object(5)\n",
        "memory usage: 1.7+ MB\n",
        "```\n"
      ]
    },
    {
      "cell_type": "code",
      "source": [],
      "metadata": {
        "id": "dwCdPkISM_AP"
      },
      "execution_count": null,
      "outputs": []
    },
    {
      "cell_type": "markdown",
      "source": [
        "### Clean the data\n",
        "\n",
        "Write a function that will:  \n",
        "\n",
        "1. Remove all rows with missing data in the total_vaccinations column and display the shape\n",
        "2. Find the median total vaccinations per hundred\n",
        "3. display the mean people vaccinated per hundred for each country in descending order\n",
        "4. find the range of total_vaccinations across the dataframe\n",
        "\n",
        "**Test output**:  \n",
        "1. (9011, 15)\n",
        "2. 6.3\n",
        "3.\n",
        "```\n",
        "country\n",
        "Gibraltar                           64.975699\n",
        "Bhutan                              55.961892\n",
        "Falkland Islands                    51.063333\n",
        "Saint Helena                        44.880000\n",
        "Seychelles                          44.005686\n",
        "                                      ...    \n",
        "China                                     NaN\n",
        "Ethiopia                                  NaN\n",
        "Saint Vincent and the Grenadines          NaN\n",
        "Samoa                                     NaN\n",
        "Saudi Arabia                              NaN\n",
        "Name: people_vaccinated_per_hundred, Length: 195, dtype: float64\n",
        "```\n",
        "4. 275338000.0"
      ],
      "metadata": {
        "id": "5vtc6Fo8Nclt"
      }
    },
    {
      "cell_type": "code",
      "source": [],
      "metadata": {
        "id": "bgoyn9Z7MkfF"
      },
      "execution_count": null,
      "outputs": []
    },
    {
      "cell_type": "markdown",
      "source": [
        "### Creating new columns in a dataframe\n",
        "---\n",
        "\n",
        "To create a new column in your dataframe:\n",
        "\n",
        "`df['new_column'] = ...`\n",
        "\n",
        "For example:\n",
        "\n",
        "* to duplicate an existing column\n",
        "  * `df['new_column'] = df['old_column']`\n",
        "* to add two columns together\n",
        "  * `df['new_column'] = df['column1'] + df['column2']`\n",
        "* to make a percentages column\n",
        "  * `df['new_column'] = (df['column1']/df['column1].sum()) * 100`\n",
        "* to make a new column for normalised values (the applied function will reference the original column name)  \n",
        "  *  `df['new_column'] = df.apply(function_name, axis=1)"
      ],
      "metadata": {
        "id": "9YIl7pc5Ycn4"
      }
    },
    {
      "cell_type": "markdown",
      "metadata": {
        "id": "G8yHJH706Cd9"
      },
      "source": [
        "### Challenge 2 - normalise daily vaccinations\n",
        "---\n",
        "\n",
        "1. Find the median daily vaccinations per million, of the cleaned data\n",
        "2. Write a function to normalise daily vaccinations per million, where values greater than or equal to median = 1 and values less than median = 0 and any null values are ignored  (only evaluate for 0 or 1 if the cell has some value - the following code will do this)    \n",
        "\n",
        "`if df['daily_vaccinations_per_million']:`\n",
        "\n",
        "**Test output**:\n",
        "\n",
        "1. 1915.5\n",
        "2. using describe()\n",
        "```\n",
        "count    14994.000000\n",
        "mean         0.493464\n",
        "std          0.499974\n",
        "min          0.000000\n",
        "25%          0.000000\n",
        "50%          0.000000\n",
        "75%          1.000000\n",
        "max          1.000000\n",
        "Name: daily_vaccinations_per_million, dtype: float64\n",
        "```"
      ]
    },
    {
      "cell_type": "code",
      "metadata": {
        "id": "nwmvVLa0aYli"
      },
      "source": [
        "\n"
      ],
      "execution_count": null,
      "outputs": []
    },
    {
      "cell_type": "markdown",
      "metadata": {
        "id": "KznNiO1ooEcw"
      },
      "source": [
        "### Challenge 3 - Normalising total vaccinations   \n",
        "---\n",
        "The United Kingdom reported a fast vaccine rollout.\n",
        "1. Find the minimum total vaccinations for the United Kingdom\n",
        "2. Save this value in a variable rounded down to an integer\n",
        "3. Write a function to normalise total_vaccinations column so that all values less than the UK's min are 0 and all values greater than or equal to the UK's min are coded as 1.  Save the normalised values into a new column called `normalised_tv`\n",
        "4. Display the countries for which total vaccinated is at the same rate or more than the UK\n",
        "\n",
        "**Test output**:\n",
        "\n",
        "1. 1402432.0\n",
        "2. 1402432\n",
        "3. `df['total_vaccinations']` should output:\n",
        "```\n",
        "0        0\n",
        "6        0\n",
        "22       0\n",
        "44       0\n",
        "59       0\n",
        "        ..\n",
        "14989    0\n",
        "14990    0\n",
        "14991    0\n",
        "14992    0\n",
        "14993    0\n",
        "Name: total_vaccinations, Length: 9011, dtype: int64\n",
        "```\n",
        "4.\n",
        "```\n",
        "array(['Argentina', 'Australia', 'Austria', 'Azerbaijan', 'Bangladesh',\n",
        "       'Belgium', 'Brazil', 'Cambodia', 'Canada', 'Chile', 'China',\n",
        "       'Colombia', 'Czechia', 'Denmark', 'Dominican Republic', 'England',\n",
        "       'Finland', 'France', 'Germany', 'Greece', 'Hong Kong', 'Hungary',\n",
        "       'India', 'Indonesia', 'Ireland', 'Israel', 'Italy', 'Japan',\n",
        "       'Kazakhstan', 'Malaysia', 'Mexico', 'Morocco', 'Nepal',\n",
        "       'Netherlands', 'Norway', 'Pakistan', 'Peru', 'Philippines',\n",
        "       'Poland', 'Portugal', 'Qatar', 'Romania', 'Russia', 'Saudi Arabia',\n",
        "       'Scotland', 'Serbia', 'Singapore', 'Slovakia', 'South Korea',\n",
        "       'Spain', 'Sweden', 'Switzerland', 'Thailand', 'Turkey',\n",
        "       'United Arab Emirates', 'United Kingdom', 'United States',\n",
        "       'Uruguay', 'Wales'], dtype=object)\n",
        "```\n",
        "\n",
        "\n"
      ]
    },
    {
      "cell_type": "code",
      "metadata": {
        "id": "D6-QmeusbTIx"
      },
      "source": [],
      "execution_count": null,
      "outputs": []
    },
    {
      "cell_type": "markdown",
      "metadata": {
        "id": "9upnqmDO9Yko"
      },
      "source": [
        "### Challenge 4 - create new series of total vaccinations for each manufacturer\n",
        "---\n",
        "\n",
        "  \n",
        "1. read data from 'by_manufacturer' sheet from Covid data\n",
        "2. display the info\n",
        "\n"
      ]
    },
    {
      "cell_type": "code",
      "metadata": {
        "id": "SOR5I5cIbTx5"
      },
      "source": [],
      "execution_count": null,
      "outputs": []
    },
    {
      "cell_type": "markdown",
      "source": [
        "### Clean the data\n",
        "\n",
        "1.  find the sum of total vaccinations for each manufacturer\n",
        "2.  create a new column that has the total vaccinations as a percentage of the overall sum of total vaccinations\n",
        "3.  find the median percentage\n",
        "4.  create a new column called 'normalised_percentages' which duplicates the percentages column  with the matching normalised_percentages so that any values greater than or equal to the median percentage = 1 and any lesser than = 0\n",
        "\n",
        "\n",
        "**Test output**\n",
        "\n",
        "1.\n",
        "```\n",
        "vaccine\n",
        "Johnson&Johnson        264839828\n",
        "Moderna               5548036383\n",
        "Oxford/AstraZeneca     539433203\n",
        "Pfizer/BioNTech       8690461304\n",
        "Sinovac                604660293\n",
        "Name: total_vaccinations, dtype: int64\n",
        "```\n",
        "\n",
        "2.\n",
        "```\n",
        "location\tdate\tvaccine\ttotal_vaccinations\tpercentages\tnormalised_percentages\n",
        "0\tChile\t2020-12-24\tPfizer/BioNTech\t420\t0.000003\t0\n",
        "1\tChile\t2020-12-25\tPfizer/BioNTech\t5198\t0.000033\t0\n",
        "2\tChile\t2020-12-26\tPfizer/BioNTech\t8338\t0.000053\t0\n",
        "3\tChile\t2020-12-27\tPfizer/BioNTech\t8649\t0.000055\t0\n",
        "4\tChile\t2020-12-28\tPfizer/BioNTech\t8649\t0.000055\t0\n",
        "5\tChile\t2020-12-29\tPfizer/BioNTech\t8649\t0.000055\t0\n",
        "6\tChile\t2020-12-30\tPfizer/BioNTech\t8649\t0.000055\t0\n",
        "7\tChile\t2020-12-31\tPfizer/BioNTech\t8649\t0.000055\t0\n",
        "8\tChile\t2021-01-01\tPfizer/BioNTech\t8649\t0.000055\t0\n",
        "9\tChile\t2021-01-02\tPfizer/BioNTech\t8649\t0.000055\t0\n",
        "```\n",
        "\n",
        "3.\n",
        "\n",
        "0.0011110194374896931\n",
        "\n",
        "4.\n",
        "```\n",
        "\tlocation\tdate\tvaccine\ttotal_vaccinations\tpercentages\tnormalised_percentages\n",
        "0\tChile\t2020-12-24\tPfizer/BioNTech\t420\t0.000003\t0\n",
        "1\tChile\t2020-12-25\tPfizer/BioNTech\t5198\t0.000033\t0\n",
        "2\tChile\t2020-12-26\tPfizer/BioNTech\t8338\t0.000053\t0\n",
        "3\tChile\t2020-12-27\tPfizer/BioNTech\t8649\t0.000055\t0\n",
        "4\tChile\t2020-12-28\tPfizer/BioNTech\t8649\t0.000055\t0\n",
        "...\t...\t...\t...\t...\t...\t...\n",
        "3291\tUnited States\t2021-05-01\tModerna\t105947940\t0.677095\t1\n",
        "3292\tUnited States\t2021-05-01\tPfizer/BioNTech\t129013657\t0.824504\t1\n",
        "3293\tUnited States\t2021-05-02\tJohnson&Johnson\t8374395\t0.053519\t1\n",
        "3294\tUnited States\t2021-05-02\tModerna\t106780082\t0.682413\t1\n",
        "3295\tUnited States\t2021-05-02\tPfizer/BioNTech\t130252779\t0.832423\t1\n",
        "3296 rows × 6 columns\n",
        "```"
      ],
      "metadata": {
        "id": "P-BUZAXebpIg"
      }
    },
    {
      "cell_type": "code",
      "source": [],
      "metadata": {
        "id": "UaNi6BSdVPgm"
      },
      "execution_count": null,
      "outputs": []
    }
  ]
}