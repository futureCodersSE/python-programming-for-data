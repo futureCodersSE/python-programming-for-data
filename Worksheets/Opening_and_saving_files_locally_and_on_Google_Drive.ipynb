{
  "nbformat": 4,
  "nbformat_minor": 0,
  "metadata": {
    "colab": {
      "provenance": [],
      "authorship_tag": "ABX9TyMgCy4uIlFf32EFBNW3wKxb",
      "include_colab_link": true
    },
    "kernelspec": {
      "name": "python3",
      "display_name": "Python 3"
    },
    "language_info": {
      "name": "python"
    }
  },
  "cells": [
    {
      "cell_type": "markdown",
      "metadata": {
        "id": "view-in-github",
        "colab_type": "text"
      },
      "source": [
        "<a href=\"https://colab.research.google.com/github/futureCodersSE/python-programming-for-data/blob/main/Worksheets/Opening_and_saving_files_locally_and_on_Google_Drive.ipynb\" target=\"_parent\"><img src=\"https://colab.research.google.com/assets/colab-badge.svg\" alt=\"Open In Colab\"/></a>"
      ]
    },
    {
      "cell_type": "markdown",
      "source": [
        "# Using Google Drive for storing data files\n",
        "We are increasingly working exclusively online and so file storage is no longer something we manage on the hard drive of the device we are using, it is stored in the cloud.\n",
        "\n",
        "There are a number of different cloud storage providers:  Google Drive, AWS S3, OneDrive, Dropbox, Github, etc\n",
        "\n",
        "Each handles files differently and differently Python libraries may be needed.\n",
        "\n",
        "The exercises and examples below use Google Drive, as Google Colabs are stored on your Google Drive and so it is good to store data files there as well.\n",
        "\n",
        "## Getting ready\n",
        "---\n",
        "\\\n",
        "1.  Login to your Google account and open Google Drive (https://drive.google.com)\n",
        "2.  If your files are not showing as a list, click on the View icon (shown in the screenshot below) to get a list view (this is just because it is a bit easier to see things in a list than when they are shown as big icons and you have to scroll around.![Drive-screenshot.jpg](data:image/jpeg;base64,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)\n",
        "\n",
        "3.  Create a new folder (Click on the New button at the top left-hand side of the window and then select **New Folder**\n",
        "4.  Name the folder **Colab_data**\n",
        "\n",
        "Now you have a folder to store the datasets you want to work with."
      ],
      "metadata": {
        "id": "M4pEnRpVJTEe"
      }
    },
    {
      "cell_type": "markdown",
      "source": [
        "## Mounting and unmounting the Google Drive\n",
        "In order to be able to open and save files on Google Drive, with Python, you first need to mount the Drive.\n",
        "\n",
        "When you have finished working with the files, you should always unmount the Drive.\n",
        "\n",
        "Run the code below to see what mounting the drive looks like.  You will be asked to grant access to your Google Drive, which you should do."
      ],
      "metadata": {
        "id": "ooukqw6ZMJn2"
      }
    },
    {
      "cell_type": "code",
      "execution_count": null,
      "metadata": {
        "id": "8bOz3KSuJPbl"
      },
      "outputs": [],
      "source": [
        "from google.colab import drive\n",
        "\n",
        "def mount_drive():\n",
        "  drive.mount('/content/drive', force_remount=True)\n",
        "  folder_name = \"/content/drive/MyDrive/Colab_data\"\n",
        "  return folder_name\n",
        "\n",
        "data_folder = mount_drive()\n",
        "print(data_folder)"
      ]
    },
    {
      "cell_type": "markdown",
      "source": [
        "Then run the code below to see what unmounting the drive looks like.\n",
        "\n",
        "Once the drive is unmounted you will no longer be able to open and save files, without mounting it again."
      ],
      "metadata": {
        "id": "2BpErcR4NiLl"
      }
    },
    {
      "cell_type": "code",
      "source": [
        "def unmount_drive():\n",
        "  drive.flush_and_unmount()\n",
        "  print('All changes made in this colab session should now be visible in Drive.')\n",
        "\n",
        "unmount_drive()"
      ],
      "metadata": {
        "id": "6wAGZ6q4NlcE"
      },
      "execution_count": null,
      "outputs": []
    },
    {
      "cell_type": "markdown",
      "source": [
        "## Opening a file from your Colab_data folder on your drive\n",
        "---\n",
        "\\\n",
        "You can use the standard file opening functions with pandas, or with requests.get() to open the data files.\n",
        "\n",
        "To get ready to try it out, you will need a data file in your folder.  Download this file: https://drive.google.com/file/d/1rQ1GPIbk-qDkm8tU3_seTqpaxSSf-u8k/view?usp=share_link and then upload it to your Colab_data folder on your Google Drive\n",
        "\n",
        "Run the code below to see how you might open a CSV file with Python pandas"
      ],
      "metadata": {
        "id": "-TH7AG7QN53N"
      }
    },
    {
      "cell_type": "code",
      "source": [
        "import pandas as pd\n",
        "from google.colab import drive\n",
        "\n",
        "def mount_drive():\n",
        "  drive.mount('/content/drive', force_remount=True)\n",
        "  folderpath = \"/content/drive/MyDrive/Colab_data\"\n",
        "  return folderpath\n",
        "\n",
        "def get_data(path):\n",
        "  try:\n",
        "    df = pd.read_csv(path + \"/Paisley-Weather-Data.csv\")\n",
        "    return df\n",
        "  except:\n",
        "    print(\"There was a problem and the file could not be opened.\")\n",
        "\n",
        "path = mount_drive()\n",
        "weather_df = get_data(path)\n",
        "display(weather_df)\n"
      ],
      "metadata": {
        "id": "FD3-TXnuPvj1"
      },
      "execution_count": null,
      "outputs": []
    },
    {
      "cell_type": "code",
      "source": [
        "from google.colab import drive\n",
        "drive.mount('/content/drive')"
      ],
      "metadata": {
        "id": "MGTmcf9DYCD_"
      },
      "execution_count": null,
      "outputs": []
    },
    {
      "cell_type": "markdown",
      "source": [
        "If this file was an Excel file, you would use `pd.read_excel(path, sheet_name=\"\")`  if it was a json data file, you would use `pd.read_json(path)`.\n",
        "\n",
        "To try the code in the cell below, first download the JSON file at this link: https://drive.google.com/file/d/1hSp8nn-uVo6qjaHUJLBRpRMaM1qu1U8k/view?usp=share_link and upload it to your Colab_data folder."
      ],
      "metadata": {
        "id": "-Rh0usl2Q_iU"
      }
    },
    {
      "cell_type": "code",
      "source": [
        "import json\n",
        "\n",
        "def get_data(path):\n",
        "  try:\n",
        "    data = pd.read_json(path + \"/busdata_23-01-04_22-00.json\")\n",
        "    return data\n",
        "  except:\n",
        "    print(\"There was a problem and the file could not be opened.\")\n",
        "\n",
        "path = mount_drive()\n",
        "json_df = get_data(path)\n",
        "display(json_df)"
      ],
      "metadata": {
        "id": "FXHKjp-hSANc"
      },
      "execution_count": null,
      "outputs": []
    },
    {
      "cell_type": "markdown",
      "source": [
        "## Saving files in CSV format\n",
        "---\n",
        "\\\n",
        "Once you have cleaned a data file, or wrangled it in some way, you may want to save it so that it can be used later with another tool (maybe save it so that it can be opened in Excel or Google Sheets.\n",
        "\n",
        "Before you can save, you will need to have mounted the drive (as long as you have run this already in this notebook, it will remember it is mounted).\n",
        "\n",
        "Then you can use `df.to_csv(path + \"/file_name.csv\")` to save it as a CSV file.\n",
        "\n",
        "**Try it out**\n",
        "Run the code below to save the weather data (which was called `opened_df`) that you opened from the Paisley-weather-data.csv file earlier in this worksheet.\n",
        "\n",
        "The code will save a copy of the file as `updated-Paisley-weather-data.csv`.\n",
        "\n",
        "Once the code has run, check your Colab_data folder in your Google Drive.  The file should be there."
      ],
      "metadata": {
        "id": "O-CUcuVxY3GL"
      }
    },
    {
      "cell_type": "code",
      "source": [
        "def save_data(df, path):\n",
        "  try:\n",
        "    df.to_excel(path + \"/updated-Paisley-weather-data.xlsx\")\n",
        "    print(\"File saved successfully\")\n",
        "  except:\n",
        "    print(\"There was an error when trying to save the file.\")\n",
        "\n",
        "save_data(weather_df, path)"
      ],
      "metadata": {
        "id": "zVSIgd5CaTNz"
      },
      "execution_count": null,
      "outputs": []
    },
    {
      "cell_type": "markdown",
      "source": [
        "To do the same thing for saving an Excel file, use the instruction:\n",
        "\n",
        "`df.to_excel(path + \"\\updated-weather-data.xlsx', index=False)`"
      ],
      "metadata": {
        "id": "TGFqH3gpbW5S"
      }
    },
    {
      "cell_type": "markdown",
      "source": [
        "# And finally...\n",
        "---\n",
        "\\\n",
        "Unmount the drive when you have finished with the files.  This way you keep it safe from corruption.\n",
        "\n",
        "See the first code cell for how to do this."
      ],
      "metadata": {
        "id": "mbI3YHD_cv8d"
      }
    },
    {
      "cell_type": "markdown",
      "source": [
        "# Opening and saving local files\n",
        "---\n",
        "\\\n",
        "To open files from your local hard drive, you will need first to upload the file to Google Drive, then you can access it from the upload list.\n",
        "\n",
        "Make sure that you have the two files from above on your hard drive:  \n",
        "*  Paisley-weather-data.csv (from https://drive.google.com/file/d/1rQ1GPIbk-qDkm8tU3_seTqpaxSSf-u8k/view?usp=share_link)  \n",
        "  \n",
        "*  busdata_23-01-04_22-00.json (from  https://drive.google.com/file/d/1hSp8nn-uVo6qjaHUJLBRpRMaM1qu1U8k/view?usp=share_link\n",
        "\n",
        "\n",
        "Run the code below to see how this works.  When asked, upload the `Paisley-weather-data.csv` file:"
      ],
      "metadata": {
        "id": "_I1oXO8Qh5AP"
      }
    },
    {
      "cell_type": "code",
      "source": [
        "from google.colab import files\n",
        "import pandas as pd\n",
        "import io\n",
        "\n",
        "uploaded = files.upload()\n",
        "df = pd.read_csv(io.BytesIO(uploaded['Paisley-Weather-Data.csv']))\n",
        "display(df)"
      ],
      "metadata": {
        "id": "sTRFh9ctjcdQ"
      },
      "execution_count": null,
      "outputs": []
    },
    {
      "cell_type": "markdown",
      "source": [
        "### To download a dataframe in a CSV or Excel file\n",
        "---\n",
        "\\\n",
        "Assuming that you have a dataframe that you need to save for later access, you can download it to your hard drive using the instructions:\n",
        "```\n",
        "df.to_csv('new_Paisley-Weather-Data.csv')\n",
        "files.download('new_Paisley-Weather-Data.csv')\n",
        "```\n",
        "\n",
        "To download to an Excel spreadsheet:\n",
        "```\n",
        "df.to_excel('new_Paisley-Weather-Data.xlsx')\n",
        "files.download('new_Paisley-Weather-Data.xlsx')\n",
        "```\n",
        "Try it out"
      ],
      "metadata": {
        "id": "KwzhziDyZR7U"
      }
    },
    {
      "cell_type": "code",
      "source": [
        "from google.colab import files\n",
        "import pandas as pd\n",
        "\n",
        "def save_to_excel(df, filename):\n",
        "  df.to_excel('new_Paisley-Weather-Data.xlsx')\n",
        "  files.download('new_Paisley-Weather-Data.xlsx')\n",
        "\n",
        "save_to_excel(df, 'new_Paisley-Weather-Data.xlsx')"
      ],
      "metadata": {
        "colab": {
          "base_uri": "https://localhost:8080/",
          "height": 17
        },
        "id": "S1dp2UMqbvCR",
        "outputId": "3836e6a9-9d67-4a8e-e79b-13734add12df"
      },
      "execution_count": 13,
      "outputs": [
        {
          "output_type": "display_data",
          "data": {
            "text/plain": [
              "<IPython.core.display.Javascript object>"
            ],
            "application/javascript": [
              "\n",
              "    async function download(id, filename, size) {\n",
              "      if (!google.colab.kernel.accessAllowed) {\n",
              "        return;\n",
              "      }\n",
              "      const div = document.createElement('div');\n",
              "      const label = document.createElement('label');\n",
              "      label.textContent = `Downloading \"${filename}\": `;\n",
              "      div.appendChild(label);\n",
              "      const progress = document.createElement('progress');\n",
              "      progress.max = size;\n",
              "      div.appendChild(progress);\n",
              "      document.body.appendChild(div);\n",
              "\n",
              "      const buffers = [];\n",
              "      let downloaded = 0;\n",
              "\n",
              "      const channel = await google.colab.kernel.comms.open(id);\n",
              "      // Send a message to notify the kernel that we're ready.\n",
              "      channel.send({})\n",
              "\n",
              "      for await (const message of channel.messages) {\n",
              "        // Send a message to notify the kernel that we're ready.\n",
              "        channel.send({})\n",
              "        if (message.buffers) {\n",
              "          for (const buffer of message.buffers) {\n",
              "            buffers.push(buffer);\n",
              "            downloaded += buffer.byteLength;\n",
              "            progress.value = downloaded;\n",
              "          }\n",
              "        }\n",
              "      }\n",
              "      const blob = new Blob(buffers, {type: 'application/binary'});\n",
              "      const a = document.createElement('a');\n",
              "      a.href = window.URL.createObjectURL(blob);\n",
              "      a.download = filename;\n",
              "      div.appendChild(a);\n",
              "      a.click();\n",
              "      div.remove();\n",
              "    }\n",
              "  "
            ]
          },
          "metadata": {}
        },
        {
          "output_type": "display_data",
          "data": {
            "text/plain": [
              "<IPython.core.display.Javascript object>"
            ],
            "application/javascript": [
              "download(\"download_1fd418ca-49e3-4895-84db-0445ef58fec7\", \"new_Paisley-Weather-Data.xlsx\", 37058)"
            ]
          },
          "metadata": {}
        }
      ]
    },
    {
      "cell_type": "markdown",
      "source": [
        "### Use the code cell below to try opening and saving files\n",
        "---\n"
      ],
      "metadata": {
        "id": "2DFv4DytdovT"
      }
    },
    {
      "cell_type": "code",
      "source": [],
      "metadata": {
        "id": "YHCrnsh8eIW4"
      },
      "execution_count": null,
      "outputs": []
    }
  ]
}